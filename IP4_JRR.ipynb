{
 "cells": [
  {
   "cell_type": "markdown",
   "metadata": {},
   "source": [
    "# Exploratory Data Analysis\n",
    "---\n",
    "**Author:** Jacob Redmon  \n",
    "**Version:** 1.0  \n",
    "**Semester:** Spring 2021  \n",
    "**Summary:**  \n",
    "\n",
    "The goal of this project is to use Pandas/Matplotlib/Seaborn to clean up a data set and explore it."
   ]
  },
  {
   "cell_type": "code",
   "execution_count": null,
   "metadata": {},
   "outputs": [],
   "source": []
  }
 ],
 "metadata": {
  "kernelspec": {
   "display_name": "Python 3",
   "language": "python",
   "name": "python3"
  },
  "language_info": {
   "name": ""
  }
 },
 "nbformat": 4,
 "nbformat_minor": 4
}
