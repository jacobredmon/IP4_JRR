{
 "cells": [
  {
   "cell_type": "markdown",
   "metadata": {},
   "source": [
    "# Exploratory Data Analysis\n",
    "---\n",
    "**Author:** Jacob Redmon  \n",
    "**Version:** 1.0  \n",
    "**Semester:** Spring 2021  \n",
    "**Summary:**  \n",
    "\n",
    "The goal of this project is to use Pandas/Matplotlib/Seaborn to clean up a data set and explore it."
   ]
  },
  {
   "cell_type": "markdown",
   "metadata": {},
   "source": [
    "## I. Imports"
   ]
  },
  {
   "cell_type": "code",
   "execution_count": 1,
   "metadata": {},
   "outputs": [],
   "source": [
    "import pandas as pd\n",
    "import numpy as np\n",
    "import matplotlib.pyplot as plt\n",
    "import seaborn as sns\n",
    "%matplotlib inline"
   ]
  },
  {
   "cell_type": "markdown",
   "metadata": {},
   "source": [
    "## II. Data Set Description"
   ]
  },
  {
   "cell_type": "code",
   "execution_count": 2,
   "metadata": {},
   "outputs": [],
   "source": [
    "df = pd.read_csv('movie_metadata.csv')"
   ]
  },
  {
   "cell_type": "code",
   "execution_count": 3,
   "metadata": {},
   "outputs": [
    {
     "data": {
      "text/html": [
       "<div>\n",
       "<style scoped>\n",
       "    .dataframe tbody tr th:only-of-type {\n",
       "        vertical-align: middle;\n",
       "    }\n",
       "\n",
       "    .dataframe tbody tr th {\n",
       "        vertical-align: top;\n",
       "    }\n",
       "\n",
       "    .dataframe thead th {\n",
       "        text-align: right;\n",
       "    }\n",
       "</style>\n",
       "<table border=\"1\" class=\"dataframe\">\n",
       "  <thead>\n",
       "    <tr style=\"text-align: right;\">\n",
       "      <th></th>\n",
       "      <th>color</th>\n",
       "      <th>director_name</th>\n",
       "      <th>num_critic_for_reviews</th>\n",
       "      <th>duration</th>\n",
       "      <th>director_facebook_likes</th>\n",
       "      <th>actor_3_facebook_likes</th>\n",
       "      <th>actor_2_name</th>\n",
       "      <th>actor_1_facebook_likes</th>\n",
       "      <th>gross</th>\n",
       "      <th>genres</th>\n",
       "      <th>...</th>\n",
       "      <th>num_user_for_reviews</th>\n",
       "      <th>language</th>\n",
       "      <th>country</th>\n",
       "      <th>content_rating</th>\n",
       "      <th>budget</th>\n",
       "      <th>title_year</th>\n",
       "      <th>actor_2_facebook_likes</th>\n",
       "      <th>imdb_score</th>\n",
       "      <th>aspect_ratio</th>\n",
       "      <th>movie_facebook_likes</th>\n",
       "    </tr>\n",
       "  </thead>\n",
       "  <tbody>\n",
       "    <tr>\n",
       "      <th>0</th>\n",
       "      <td>Color</td>\n",
       "      <td>James Cameron</td>\n",
       "      <td>723.0</td>\n",
       "      <td>178.0</td>\n",
       "      <td>0.0</td>\n",
       "      <td>855.0</td>\n",
       "      <td>Joel David Moore</td>\n",
       "      <td>1000.0</td>\n",
       "      <td>760505847.0</td>\n",
       "      <td>Action|Adventure|Fantasy|Sci-Fi</td>\n",
       "      <td>...</td>\n",
       "      <td>3054.0</td>\n",
       "      <td>English</td>\n",
       "      <td>USA</td>\n",
       "      <td>PG-13</td>\n",
       "      <td>237000000.0</td>\n",
       "      <td>2009.0</td>\n",
       "      <td>936.0</td>\n",
       "      <td>7.9</td>\n",
       "      <td>1.78</td>\n",
       "      <td>33000</td>\n",
       "    </tr>\n",
       "    <tr>\n",
       "      <th>1</th>\n",
       "      <td>Color</td>\n",
       "      <td>Gore Verbinski</td>\n",
       "      <td>302.0</td>\n",
       "      <td>169.0</td>\n",
       "      <td>563.0</td>\n",
       "      <td>1000.0</td>\n",
       "      <td>Orlando Bloom</td>\n",
       "      <td>40000.0</td>\n",
       "      <td>309404152.0</td>\n",
       "      <td>Action|Adventure|Fantasy</td>\n",
       "      <td>...</td>\n",
       "      <td>1238.0</td>\n",
       "      <td>English</td>\n",
       "      <td>USA</td>\n",
       "      <td>PG-13</td>\n",
       "      <td>300000000.0</td>\n",
       "      <td>2007.0</td>\n",
       "      <td>5000.0</td>\n",
       "      <td>7.1</td>\n",
       "      <td>2.35</td>\n",
       "      <td>0</td>\n",
       "    </tr>\n",
       "    <tr>\n",
       "      <th>2</th>\n",
       "      <td>Color</td>\n",
       "      <td>Sam Mendes</td>\n",
       "      <td>602.0</td>\n",
       "      <td>148.0</td>\n",
       "      <td>0.0</td>\n",
       "      <td>161.0</td>\n",
       "      <td>Rory Kinnear</td>\n",
       "      <td>11000.0</td>\n",
       "      <td>200074175.0</td>\n",
       "      <td>Action|Adventure|Thriller</td>\n",
       "      <td>...</td>\n",
       "      <td>994.0</td>\n",
       "      <td>English</td>\n",
       "      <td>UK</td>\n",
       "      <td>PG-13</td>\n",
       "      <td>245000000.0</td>\n",
       "      <td>2015.0</td>\n",
       "      <td>393.0</td>\n",
       "      <td>6.8</td>\n",
       "      <td>2.35</td>\n",
       "      <td>85000</td>\n",
       "    </tr>\n",
       "    <tr>\n",
       "      <th>3</th>\n",
       "      <td>Color</td>\n",
       "      <td>Christopher Nolan</td>\n",
       "      <td>813.0</td>\n",
       "      <td>164.0</td>\n",
       "      <td>22000.0</td>\n",
       "      <td>23000.0</td>\n",
       "      <td>Christian Bale</td>\n",
       "      <td>27000.0</td>\n",
       "      <td>448130642.0</td>\n",
       "      <td>Action|Thriller</td>\n",
       "      <td>...</td>\n",
       "      <td>2701.0</td>\n",
       "      <td>English</td>\n",
       "      <td>USA</td>\n",
       "      <td>PG-13</td>\n",
       "      <td>250000000.0</td>\n",
       "      <td>2012.0</td>\n",
       "      <td>23000.0</td>\n",
       "      <td>8.5</td>\n",
       "      <td>2.35</td>\n",
       "      <td>164000</td>\n",
       "    </tr>\n",
       "    <tr>\n",
       "      <th>4</th>\n",
       "      <td>NaN</td>\n",
       "      <td>Doug Walker</td>\n",
       "      <td>NaN</td>\n",
       "      <td>NaN</td>\n",
       "      <td>131.0</td>\n",
       "      <td>NaN</td>\n",
       "      <td>Rob Walker</td>\n",
       "      <td>131.0</td>\n",
       "      <td>NaN</td>\n",
       "      <td>Documentary</td>\n",
       "      <td>...</td>\n",
       "      <td>NaN</td>\n",
       "      <td>NaN</td>\n",
       "      <td>NaN</td>\n",
       "      <td>NaN</td>\n",
       "      <td>NaN</td>\n",
       "      <td>NaN</td>\n",
       "      <td>12.0</td>\n",
       "      <td>7.1</td>\n",
       "      <td>NaN</td>\n",
       "      <td>0</td>\n",
       "    </tr>\n",
       "  </tbody>\n",
       "</table>\n",
       "<p>5 rows × 28 columns</p>\n",
       "</div>"
      ],
      "text/plain": [
       "   color      director_name  num_critic_for_reviews  duration  \\\n",
       "0  Color      James Cameron                   723.0     178.0   \n",
       "1  Color     Gore Verbinski                   302.0     169.0   \n",
       "2  Color         Sam Mendes                   602.0     148.0   \n",
       "3  Color  Christopher Nolan                   813.0     164.0   \n",
       "4    NaN        Doug Walker                     NaN       NaN   \n",
       "\n",
       "   director_facebook_likes  actor_3_facebook_likes      actor_2_name  \\\n",
       "0                      0.0                   855.0  Joel David Moore   \n",
       "1                    563.0                  1000.0     Orlando Bloom   \n",
       "2                      0.0                   161.0      Rory Kinnear   \n",
       "3                  22000.0                 23000.0    Christian Bale   \n",
       "4                    131.0                     NaN        Rob Walker   \n",
       "\n",
       "   actor_1_facebook_likes        gross                           genres  ...  \\\n",
       "0                  1000.0  760505847.0  Action|Adventure|Fantasy|Sci-Fi  ...   \n",
       "1                 40000.0  309404152.0         Action|Adventure|Fantasy  ...   \n",
       "2                 11000.0  200074175.0        Action|Adventure|Thriller  ...   \n",
       "3                 27000.0  448130642.0                  Action|Thriller  ...   \n",
       "4                   131.0          NaN                      Documentary  ...   \n",
       "\n",
       "  num_user_for_reviews language  country  content_rating       budget  \\\n",
       "0               3054.0  English      USA           PG-13  237000000.0   \n",
       "1               1238.0  English      USA           PG-13  300000000.0   \n",
       "2                994.0  English       UK           PG-13  245000000.0   \n",
       "3               2701.0  English      USA           PG-13  250000000.0   \n",
       "4                  NaN      NaN      NaN             NaN          NaN   \n",
       "\n",
       "   title_year actor_2_facebook_likes imdb_score  aspect_ratio  \\\n",
       "0      2009.0                  936.0        7.9          1.78   \n",
       "1      2007.0                 5000.0        7.1          2.35   \n",
       "2      2015.0                  393.0        6.8          2.35   \n",
       "3      2012.0                23000.0        8.5          2.35   \n",
       "4         NaN                   12.0        7.1           NaN   \n",
       "\n",
       "  movie_facebook_likes  \n",
       "0                33000  \n",
       "1                    0  \n",
       "2                85000  \n",
       "3               164000  \n",
       "4                    0  \n",
       "\n",
       "[5 rows x 28 columns]"
      ]
     },
     "execution_count": 3,
     "metadata": {},
     "output_type": "execute_result"
    }
   ],
   "source": [
    "df.head()"
   ]
  },
  {
   "cell_type": "code",
   "execution_count": 4,
   "metadata": {},
   "outputs": [
    {
     "data": {
      "text/plain": [
       "color                         object\n",
       "director_name                 object\n",
       "num_critic_for_reviews       float64\n",
       "duration                     float64\n",
       "director_facebook_likes      float64\n",
       "actor_3_facebook_likes       float64\n",
       "actor_2_name                  object\n",
       "actor_1_facebook_likes       float64\n",
       "gross                        float64\n",
       "genres                        object\n",
       "actor_1_name                  object\n",
       "movie_title                   object\n",
       "num_voted_users                int64\n",
       "cast_total_facebook_likes      int64\n",
       "actor_3_name                  object\n",
       "facenumber_in_poster         float64\n",
       "plot_keywords                 object\n",
       "movie_imdb_link               object\n",
       "num_user_for_reviews         float64\n",
       "language                      object\n",
       "country                       object\n",
       "content_rating                object\n",
       "budget                       float64\n",
       "title_year                   float64\n",
       "actor_2_facebook_likes       float64\n",
       "imdb_score                   float64\n",
       "aspect_ratio                 float64\n",
       "movie_facebook_likes           int64\n",
       "dtype: object"
      ]
     },
     "execution_count": 4,
     "metadata": {},
     "output_type": "execute_result"
    }
   ],
   "source": [
    "df.dtypes"
   ]
  },
  {
   "cell_type": "markdown",
   "metadata": {},
   "source": [
    "The columns are not in any particular, so I'll sort them in a more meaningful way."
   ]
  },
  {
   "cell_type": "code",
   "execution_count": 5,
   "metadata": {},
   "outputs": [],
   "source": [
    "df = df[[\n",
    "    'movie_title',\n",
    "    'title_year',\n",
    "    'country',\n",
    "    'language',\n",
    "    'budget',\n",
    "    'gross',\n",
    "    'imdb_score',\n",
    "    'duration',\n",
    "    'genres',\n",
    "    'plot_keywords',\n",
    "    'color',\n",
    "    'content_rating',\n",
    "    'aspect_ratio',\n",
    "    'facenumber_in_poster',\n",
    "    'num_critic_for_reviews',\n",
    "    'num_user_for_reviews',\n",
    "    'num_voted_users',\n",
    "    'director_name',\n",
    "    'actor_1_name',\n",
    "    'actor_2_name',\n",
    "    'actor_3_name',\n",
    "    'director_facebook_likes',\n",
    "    'actor_1_facebook_likes',\n",
    "    'actor_2_facebook_likes',\n",
    "    'actor_3_facebook_likes',\n",
    "    'cast_total_facebook_likes',\n",
    "    'movie_facebook_likes',\n",
    "    'movie_imdb_link'\n",
    "]]"
   ]
  },
  {
   "cell_type": "code",
   "execution_count": 6,
   "metadata": {},
   "outputs": [
    {
     "name": "stdout",
     "output_type": "stream",
     "text": [
      "<class 'pandas.core.frame.DataFrame'>\n",
      "RangeIndex: 5043 entries, 0 to 5042\n",
      "Data columns (total 28 columns):\n",
      " #   Column                     Non-Null Count  Dtype  \n",
      "---  ------                     --------------  -----  \n",
      " 0   movie_title                5043 non-null   object \n",
      " 1   title_year                 4935 non-null   float64\n",
      " 2   country                    5038 non-null   object \n",
      " 3   language                   5031 non-null   object \n",
      " 4   budget                     4551 non-null   float64\n",
      " 5   gross                      4159 non-null   float64\n",
      " 6   imdb_score                 5043 non-null   float64\n",
      " 7   duration                   5028 non-null   float64\n",
      " 8   genres                     5043 non-null   object \n",
      " 9   plot_keywords              4890 non-null   object \n",
      " 10  color                      5024 non-null   object \n",
      " 11  content_rating             4740 non-null   object \n",
      " 12  aspect_ratio               4714 non-null   float64\n",
      " 13  facenumber_in_poster       5030 non-null   float64\n",
      " 14  num_critic_for_reviews     4993 non-null   float64\n",
      " 15  num_user_for_reviews       5022 non-null   float64\n",
      " 16  num_voted_users            5043 non-null   int64  \n",
      " 17  director_name              4939 non-null   object \n",
      " 18  actor_1_name               5036 non-null   object \n",
      " 19  actor_2_name               5030 non-null   object \n",
      " 20  actor_3_name               5020 non-null   object \n",
      " 21  director_facebook_likes    4939 non-null   float64\n",
      " 22  actor_1_facebook_likes     5036 non-null   float64\n",
      " 23  actor_2_facebook_likes     5030 non-null   float64\n",
      " 24  actor_3_facebook_likes     5020 non-null   float64\n",
      " 25  cast_total_facebook_likes  5043 non-null   int64  \n",
      " 26  movie_facebook_likes       5043 non-null   int64  \n",
      " 27  movie_imdb_link            5043 non-null   object \n",
      "dtypes: float64(13), int64(3), object(12)\n",
      "memory usage: 1.1+ MB\n"
     ]
    }
   ],
   "source": [
    "df.info()"
   ]
  },
  {
   "cell_type": "markdown",
   "metadata": {},
   "source": [
    "There are many columns here that have missing data, I will remove all rows with missing data in any column and still be left with a sizeable data set. I will also reset the index since it is no longer continuous after dropping the missing data. The `aspect_ratio` column was messed up in the original data set as it should be a String but it is a float and now no longer makes sense, so I will drop the whole column."
   ]
  },
  {
   "cell_type": "code",
   "execution_count": 7,
   "metadata": {},
   "outputs": [
    {
     "data": {
      "text/plain": [
       "3756"
      ]
     },
     "execution_count": 7,
     "metadata": {},
     "output_type": "execute_result"
    }
   ],
   "source": [
    "dfa = df.dropna()\n",
    "dfa = dfa.drop(columns='aspect_ratio')\n",
    "dfa = dfa.reset_index(drop=True)\n",
    "len(dfa.index)"
   ]
  },
  {
   "cell_type": "code",
   "execution_count": 8,
   "metadata": {},
   "outputs": [
    {
     "data": {
      "text/plain": [
       "movie_title                   object\n",
       "title_year                   float64\n",
       "country                       object\n",
       "language                      object\n",
       "budget                       float64\n",
       "gross                        float64\n",
       "imdb_score                   float64\n",
       "duration                     float64\n",
       "genres                        object\n",
       "plot_keywords                 object\n",
       "color                         object\n",
       "content_rating                object\n",
       "facenumber_in_poster         float64\n",
       "num_critic_for_reviews       float64\n",
       "num_user_for_reviews         float64\n",
       "num_voted_users                int64\n",
       "director_name                 object\n",
       "actor_1_name                  object\n",
       "actor_2_name                  object\n",
       "actor_3_name                  object\n",
       "director_facebook_likes      float64\n",
       "actor_1_facebook_likes       float64\n",
       "actor_2_facebook_likes       float64\n",
       "actor_3_facebook_likes       float64\n",
       "cast_total_facebook_likes      int64\n",
       "movie_facebook_likes           int64\n",
       "movie_imdb_link               object\n",
       "dtype: object"
      ]
     },
     "execution_count": 8,
     "metadata": {},
     "output_type": "execute_result"
    }
   ],
   "source": [
    "dfa.dtypes"
   ]
  },
  {
   "cell_type": "markdown",
   "metadata": {},
   "source": [
    "The `title_year` column is currently in a String, so I will change it to int64. I will also change the columns where decimals are irrelevant from float to int."
   ]
  },
  {
   "cell_type": "code",
   "execution_count": 9,
   "metadata": {},
   "outputs": [],
   "source": [
    "dfa['title_year'] = pd.to_datetime(dfa['title_year'], format='%Y').dt.year\n",
    "dfa['facenumber_in_poster'] = dfa['facenumber_in_poster'].astype(int)\n",
    "dfa['num_critic_for_reviews'] = dfa['num_critic_for_reviews'].astype(int)\n",
    "dfa['num_user_for_reviews'] = dfa['num_user_for_reviews'].astype(int)\n",
    "dfa['director_facebook_likes'] = dfa['director_facebook_likes'].astype(int)\n",
    "dfa['actor_1_facebook_likes'] = dfa['actor_1_facebook_likes'].astype(int)\n",
    "dfa['actor_2_facebook_likes'] = dfa['actor_2_facebook_likes'].astype(int)\n",
    "dfa['actor_3_facebook_likes'] = dfa['actor_3_facebook_likes'].astype(int)"
   ]
  },
  {
   "cell_type": "markdown",
   "metadata": {},
   "source": [
    "The `genres` column is too verbose, so I will create an additional column that takes just the first genre in the list, which is unfortunately in alphabetical order, so it may nor be the most accurate."
   ]
  },
  {
   "cell_type": "code",
   "execution_count": 34,
   "metadata": {},
   "outputs": [],
   "source": [
    "dfa['genres_first'] = dfa.genres.apply(lambda x: x.split('|')[0] if '|' in x else x)"
   ]
  },
  {
   "cell_type": "code",
   "execution_count": 51,
   "metadata": {},
   "outputs": [],
   "source": [
    "dfa.to_csv('cleaned_movies.csv')"
   ]
  },
  {
   "cell_type": "markdown",
   "metadata": {},
   "source": [
    "## III. Data Set Summary Statistics"
   ]
  },
  {
   "cell_type": "markdown",
   "metadata": {},
   "source": [
    "Generate the Summary Statistics table."
   ]
  },
  {
   "cell_type": "code",
   "execution_count": 35,
   "metadata": {},
   "outputs": [
    {
     "data": {
      "text/html": [
       "<div>\n",
       "<style scoped>\n",
       "    .dataframe tbody tr th:only-of-type {\n",
       "        vertical-align: middle;\n",
       "    }\n",
       "\n",
       "    .dataframe tbody tr th {\n",
       "        vertical-align: top;\n",
       "    }\n",
       "\n",
       "    .dataframe thead th {\n",
       "        text-align: right;\n",
       "    }\n",
       "</style>\n",
       "<table border=\"1\" class=\"dataframe\">\n",
       "  <thead>\n",
       "    <tr style=\"text-align: right;\">\n",
       "      <th></th>\n",
       "      <th>count</th>\n",
       "      <th>mean</th>\n",
       "      <th>std</th>\n",
       "      <th>min</th>\n",
       "      <th>25%</th>\n",
       "      <th>50%</th>\n",
       "      <th>75%</th>\n",
       "      <th>max</th>\n",
       "    </tr>\n",
       "  </thead>\n",
       "  <tbody>\n",
       "    <tr>\n",
       "      <th>title_year</th>\n",
       "      <td>3756.0</td>\n",
       "      <td>2.002977e+03</td>\n",
       "      <td>9.888108e+00</td>\n",
       "      <td>1927.0</td>\n",
       "      <td>1999.00</td>\n",
       "      <td>2004.0</td>\n",
       "      <td>2010.00</td>\n",
       "      <td>2.016000e+03</td>\n",
       "    </tr>\n",
       "    <tr>\n",
       "      <th>budget</th>\n",
       "      <td>3756.0</td>\n",
       "      <td>4.623685e+07</td>\n",
       "      <td>2.260103e+08</td>\n",
       "      <td>218.0</td>\n",
       "      <td>10000000.00</td>\n",
       "      <td>25000000.0</td>\n",
       "      <td>50000000.00</td>\n",
       "      <td>1.221550e+10</td>\n",
       "    </tr>\n",
       "    <tr>\n",
       "      <th>gross</th>\n",
       "      <td>3756.0</td>\n",
       "      <td>5.261282e+07</td>\n",
       "      <td>7.031787e+07</td>\n",
       "      <td>162.0</td>\n",
       "      <td>8270232.75</td>\n",
       "      <td>30093107.0</td>\n",
       "      <td>66881940.75</td>\n",
       "      <td>7.605058e+08</td>\n",
       "    </tr>\n",
       "    <tr>\n",
       "      <th>imdb_score</th>\n",
       "      <td>3756.0</td>\n",
       "      <td>6.465282e+00</td>\n",
       "      <td>1.056247e+00</td>\n",
       "      <td>1.6</td>\n",
       "      <td>5.90</td>\n",
       "      <td>6.6</td>\n",
       "      <td>7.20</td>\n",
       "      <td>9.300000e+00</td>\n",
       "    </tr>\n",
       "    <tr>\n",
       "      <th>duration</th>\n",
       "      <td>3756.0</td>\n",
       "      <td>1.102580e+02</td>\n",
       "      <td>2.264672e+01</td>\n",
       "      <td>37.0</td>\n",
       "      <td>96.00</td>\n",
       "      <td>106.0</td>\n",
       "      <td>120.00</td>\n",
       "      <td>3.300000e+02</td>\n",
       "    </tr>\n",
       "    <tr>\n",
       "      <th>facenumber_in_poster</th>\n",
       "      <td>3756.0</td>\n",
       "      <td>1.377263e+00</td>\n",
       "      <td>2.041541e+00</td>\n",
       "      <td>0.0</td>\n",
       "      <td>0.00</td>\n",
       "      <td>1.0</td>\n",
       "      <td>2.00</td>\n",
       "      <td>4.300000e+01</td>\n",
       "    </tr>\n",
       "    <tr>\n",
       "      <th>num_critic_for_reviews</th>\n",
       "      <td>3756.0</td>\n",
       "      <td>1.673783e+02</td>\n",
       "      <td>1.234520e+02</td>\n",
       "      <td>2.0</td>\n",
       "      <td>77.00</td>\n",
       "      <td>138.5</td>\n",
       "      <td>224.00</td>\n",
       "      <td>8.130000e+02</td>\n",
       "    </tr>\n",
       "    <tr>\n",
       "      <th>num_user_for_reviews</th>\n",
       "      <td>3756.0</td>\n",
       "      <td>3.368432e+02</td>\n",
       "      <td>4.112274e+02</td>\n",
       "      <td>4.0</td>\n",
       "      <td>110.00</td>\n",
       "      <td>210.0</td>\n",
       "      <td>398.25</td>\n",
       "      <td>5.060000e+03</td>\n",
       "    </tr>\n",
       "    <tr>\n",
       "      <th>num_voted_users</th>\n",
       "      <td>3756.0</td>\n",
       "      <td>1.058267e+05</td>\n",
       "      <td>1.520354e+05</td>\n",
       "      <td>91.0</td>\n",
       "      <td>19667.00</td>\n",
       "      <td>53973.5</td>\n",
       "      <td>128602.00</td>\n",
       "      <td>1.689764e+06</td>\n",
       "    </tr>\n",
       "    <tr>\n",
       "      <th>director_facebook_likes</th>\n",
       "      <td>3756.0</td>\n",
       "      <td>8.073365e+02</td>\n",
       "      <td>3.068172e+03</td>\n",
       "      <td>0.0</td>\n",
       "      <td>11.00</td>\n",
       "      <td>64.0</td>\n",
       "      <td>235.00</td>\n",
       "      <td>2.300000e+04</td>\n",
       "    </tr>\n",
       "    <tr>\n",
       "      <th>actor_1_facebook_likes</th>\n",
       "      <td>3756.0</td>\n",
       "      <td>7.751339e+03</td>\n",
       "      <td>1.551934e+04</td>\n",
       "      <td>0.0</td>\n",
       "      <td>745.00</td>\n",
       "      <td>1000.0</td>\n",
       "      <td>13000.00</td>\n",
       "      <td>6.400000e+05</td>\n",
       "    </tr>\n",
       "    <tr>\n",
       "      <th>actor_2_facebook_likes</th>\n",
       "      <td>3756.0</td>\n",
       "      <td>2.021776e+03</td>\n",
       "      <td>4.544908e+03</td>\n",
       "      <td>0.0</td>\n",
       "      <td>384.75</td>\n",
       "      <td>685.5</td>\n",
       "      <td>976.00</td>\n",
       "      <td>1.370000e+05</td>\n",
       "    </tr>\n",
       "    <tr>\n",
       "      <th>actor_3_facebook_likes</th>\n",
       "      <td>3756.0</td>\n",
       "      <td>7.712796e+02</td>\n",
       "      <td>1.894250e+03</td>\n",
       "      <td>0.0</td>\n",
       "      <td>194.00</td>\n",
       "      <td>436.0</td>\n",
       "      <td>691.00</td>\n",
       "      <td>2.300000e+04</td>\n",
       "    </tr>\n",
       "    <tr>\n",
       "      <th>cast_total_facebook_likes</th>\n",
       "      <td>3756.0</td>\n",
       "      <td>1.152710e+04</td>\n",
       "      <td>1.912218e+04</td>\n",
       "      <td>0.0</td>\n",
       "      <td>1919.75</td>\n",
       "      <td>4059.5</td>\n",
       "      <td>16240.00</td>\n",
       "      <td>6.567300e+05</td>\n",
       "    </tr>\n",
       "    <tr>\n",
       "      <th>movie_facebook_likes</th>\n",
       "      <td>3756.0</td>\n",
       "      <td>9.353829e+03</td>\n",
       "      <td>2.146289e+04</td>\n",
       "      <td>0.0</td>\n",
       "      <td>0.00</td>\n",
       "      <td>227.0</td>\n",
       "      <td>11000.00</td>\n",
       "      <td>3.490000e+05</td>\n",
       "    </tr>\n",
       "  </tbody>\n",
       "</table>\n",
       "</div>"
      ],
      "text/plain": [
       "                            count          mean           std     min  \\\n",
       "title_year                 3756.0  2.002977e+03  9.888108e+00  1927.0   \n",
       "budget                     3756.0  4.623685e+07  2.260103e+08   218.0   \n",
       "gross                      3756.0  5.261282e+07  7.031787e+07   162.0   \n",
       "imdb_score                 3756.0  6.465282e+00  1.056247e+00     1.6   \n",
       "duration                   3756.0  1.102580e+02  2.264672e+01    37.0   \n",
       "facenumber_in_poster       3756.0  1.377263e+00  2.041541e+00     0.0   \n",
       "num_critic_for_reviews     3756.0  1.673783e+02  1.234520e+02     2.0   \n",
       "num_user_for_reviews       3756.0  3.368432e+02  4.112274e+02     4.0   \n",
       "num_voted_users            3756.0  1.058267e+05  1.520354e+05    91.0   \n",
       "director_facebook_likes    3756.0  8.073365e+02  3.068172e+03     0.0   \n",
       "actor_1_facebook_likes     3756.0  7.751339e+03  1.551934e+04     0.0   \n",
       "actor_2_facebook_likes     3756.0  2.021776e+03  4.544908e+03     0.0   \n",
       "actor_3_facebook_likes     3756.0  7.712796e+02  1.894250e+03     0.0   \n",
       "cast_total_facebook_likes  3756.0  1.152710e+04  1.912218e+04     0.0   \n",
       "movie_facebook_likes       3756.0  9.353829e+03  2.146289e+04     0.0   \n",
       "\n",
       "                                   25%         50%          75%           max  \n",
       "title_year                     1999.00      2004.0      2010.00  2.016000e+03  \n",
       "budget                     10000000.00  25000000.0  50000000.00  1.221550e+10  \n",
       "gross                       8270232.75  30093107.0  66881940.75  7.605058e+08  \n",
       "imdb_score                        5.90         6.6         7.20  9.300000e+00  \n",
       "duration                         96.00       106.0       120.00  3.300000e+02  \n",
       "facenumber_in_poster              0.00         1.0         2.00  4.300000e+01  \n",
       "num_critic_for_reviews           77.00       138.5       224.00  8.130000e+02  \n",
       "num_user_for_reviews            110.00       210.0       398.25  5.060000e+03  \n",
       "num_voted_users               19667.00     53973.5    128602.00  1.689764e+06  \n",
       "director_facebook_likes          11.00        64.0       235.00  2.300000e+04  \n",
       "actor_1_facebook_likes          745.00      1000.0     13000.00  6.400000e+05  \n",
       "actor_2_facebook_likes          384.75       685.5       976.00  1.370000e+05  \n",
       "actor_3_facebook_likes          194.00       436.0       691.00  2.300000e+04  \n",
       "cast_total_facebook_likes      1919.75      4059.5     16240.00  6.567300e+05  \n",
       "movie_facebook_likes              0.00       227.0     11000.00  3.490000e+05  "
      ]
     },
     "execution_count": 35,
     "metadata": {},
     "output_type": "execute_result"
    }
   ],
   "source": [
    "dfb = dfa.describe().T\n",
    "dfb"
   ]
  },
  {
   "cell_type": "markdown",
   "metadata": {},
   "source": [
    "Generate the Proportions tables for the catergorical variables."
   ]
  },
  {
   "cell_type": "markdown",
   "metadata": {},
   "source": [
    "Function to calculate the proportion for categorical variables."
   ]
  },
  {
   "cell_type": "code",
   "execution_count": 36,
   "metadata": {},
   "outputs": [],
   "source": [
    "def proportion(x):\n",
    "    x = x / 3756 * 100\n",
    "    return x"
   ]
  },
  {
   "cell_type": "markdown",
   "metadata": {},
   "source": [
    "Function to generate CSV files for proportion tables for categorical variables."
   ]
  },
  {
   "cell_type": "code",
   "execution_count": 52,
   "metadata": {},
   "outputs": [],
   "source": [
    "def prop_table(x):\n",
    "    dfc = dfa[x].groupby(dfa[x]).count().to_frame()\n",
    "    dfc.insert(1, 'proportion', dfc[x].apply(proportion))\n",
    "    dfc.to_csv('proportion_tables/'+ x + '_proportion.csv')\n",
    "    return dfc"
   ]
  },
  {
   "cell_type": "code",
   "execution_count": 53,
   "metadata": {},
   "outputs": [],
   "source": [
    "categorical = ['country', 'language', 'genres', 'plot_keywords', 'color', \n",
    "               'content_rating', 'director_name', 'actor_1_name', 'actor_2_name',\n",
    "               'actor_3_name', 'genres_first']"
   ]
  },
  {
   "cell_type": "code",
   "execution_count": 54,
   "metadata": {},
   "outputs": [],
   "source": [
    "for x in categorical:\n",
    "    prop_table(x)"
   ]
  },
  {
   "cell_type": "markdown",
   "metadata": {},
   "source": [
    "Generate a correlation matrix for all continuous variables"
   ]
  },
  {
   "cell_type": "code",
   "execution_count": 46,
   "metadata": {},
   "outputs": [],
   "source": [
    "dfd = dfa[['title_year', 'budget', 'gross', 'imdb_score', 'duration', 'facenumber_in_poster',\n",
    "    'num_critic_for_reviews', 'num_user_for_reviews', 'num_voted_users',\n",
    "    'director_facebook_likes', 'actor_1_facebook_likes', 'actor_2_facebook_likes',\n",
    "    'actor_3_facebook_likes', 'cast_total_facebook_likes', 'movie_facebook_likes']].corr()"
   ]
  },
  {
   "cell_type": "code",
   "execution_count": 47,
   "metadata": {},
   "outputs": [],
   "source": [
    "dfd.to_csv('correlation_matrix.csv')"
   ]
  },
  {
   "cell_type": "code",
   "execution_count": 48,
   "metadata": {},
   "outputs": [
    {
     "data": {
      "image/png": "[encoded data removed]",
      "text/plain": [
       "<Figure size 432x288 with 2 Axes>"
      ]
     },
     "metadata": {
      "needs_background": "light"
     },
     "output_type": "display_data"
    }
   ],
   "source": [
    "heatmap = sns.heatmap(dfd)\n",
    "fig = heatmap.get_figure()"
   ]
  },
  {
   "cell_type": "code",
   "execution_count": 18,
   "metadata": {},
   "outputs": [],
   "source": [
    "fig.savefig('corr_heatmap.png')"
   ]
  },
  {
   "cell_type": "markdown",
   "metadata": {},
   "source": [
    "## IV. Data Set Graphical Exploration"
   ]
  },
  {
   "cell_type": "markdown",
   "metadata": {},
   "source": [
    "### _A. Distributions_"
   ]
  },
  {
   "cell_type": "code",
   "execution_count": 49,
   "metadata": {},
   "outputs": [
    {
     "data": {
      "text/plain": [
       "array([[<AxesSubplot:title={'center':'title_year'}>,\n",
       "        <AxesSubplot:title={'center':'budget'}>,\n",
       "        <AxesSubplot:title={'center':'gross'}>,\n",
       "        <AxesSubplot:title={'center':'imdb_score'}>],\n",
       "       [<AxesSubplot:title={'center':'duration'}>,\n",
       "        <AxesSubplot:title={'center':'facenumber_in_poster'}>,\n",
       "        <AxesSubplot:title={'center':'num_critic_for_reviews'}>,\n",
       "        <AxesSubplot:title={'center':'num_user_for_reviews'}>],\n",
       "       [<AxesSubplot:title={'center':'num_voted_users'}>,\n",
       "        <AxesSubplot:title={'center':'director_facebook_likes'}>,\n",
       "        <AxesSubplot:title={'center':'actor_1_facebook_likes'}>,\n",
       "        <AxesSubplot:title={'center':'actor_2_facebook_likes'}>],\n",
       "       [<AxesSubplot:title={'center':'actor_3_facebook_likes'}>,\n",
       "        <AxesSubplot:title={'center':'cast_total_facebook_likes'}>,\n",
       "        <AxesSubplot:title={'center':'movie_facebook_likes'}>,\n",
       "        <AxesSubplot:>]], dtype=object)"
      ]
     },
     "execution_count": 49,
     "metadata": {},
     "output_type": "execute_result"
    },
    {
     "data": {
      "image/png": "[encoded data removed]",
      "text/plain": [
       "<Figure size 1080x1080 with 16 Axes>"
      ]
     },
     "metadata": {
      "needs_background": "light"
     },
     "output_type": "display_data"
    }
   ],
   "source": [
    "dfa.hist(bins=30,figsize=(15,15),color='g')"
   ]
  },
  {
   "cell_type": "markdown",
   "metadata": {},
   "source": [
    "### _B. Scatterplots / Pairwise Plots_"
   ]
  },
  {
   "cell_type": "code",
   "execution_count": 50,
   "metadata": {},
   "outputs": [
    {
     "data": {
      "text/plain": [
       "<AxesSubplot:xlabel='duration', ylabel='imdb_score'>"
      ]
     },
     "execution_count": 50,
     "metadata": {},
     "output_type": "execute_result"
    },
    {
     "data": {
      "image/png": "[encoded data removed]",
      "text/plain": [
       "<Figure size 432x288 with 1 Axes>"
      ]
     },
     "metadata": {
      "needs_background": "light"
     },
     "output_type": "display_data"
    }
   ],
   "source": [
    "dfa.loc[:, ['duration', 'imdb_score']].plot.scatter(x='duration', y='imdb_score')"
   ]
  },
  {
   "cell_type": "markdown",
   "metadata": {},
   "source": [
    "### _C. Barcharts_"
   ]
  },
  {
   "cell_type": "code",
   "execution_count": 29,
   "metadata": {},
   "outputs": [
    {
     "data": {
      "text/plain": [
       "<AxesSubplot:xlabel='country'>"
      ]
     },
     "execution_count": 29,
     "metadata": {},
     "output_type": "execute_result"
    },
    {
     "data": {
      "image/png": "[encoded data removed]",
      "text/plain": [
       "<Figure size 432x288 with 1 Axes>"
      ]
     },
     "metadata": {
      "needs_background": "light"
     },
     "output_type": "display_data"
    }
   ],
   "source": [
    "non_english_movies = dfa.loc[(dfa.language != 'English') & (dfa.budget < 10000000.0)]\n",
    "country_scores = non_english_movies.groupby('country').imdb_score.mean()\n",
    "country_scores.sort_values(ascending=False).plot.bar()"
   ]
  },
  {
   "cell_type": "markdown",
   "metadata": {},
   "source": [
    "### _D. Other Plots_"
   ]
  },
  {
   "cell_type": "code",
   "execution_count": null,
   "metadata": {},
   "outputs": [],
   "source": []
  }
 ],
 "metadata": {
  "kernelspec": {
   "display_name": "Python 3",
   "language": "python",
   "name": "python3"
  },
  "language_info": {
   "codemirror_mode": {
    "name": "ipython",
    "version": 3
   },
   "file_extension": ".py",
   "mimetype": "text/x-python",
   "name": "python",
   "nbconvert_exporter": "python",
   "pygments_lexer": "ipython3",
   "version": "3.8.5"
  }
 },
 "nbformat": 4,
 "nbformat_minor": 4
}
